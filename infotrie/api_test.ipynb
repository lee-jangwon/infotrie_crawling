{
 "cells": [
  {
   "cell_type": "code",
   "execution_count": 1,
   "metadata": {},
   "outputs": [],
   "source": [
    "import requests"
   ]
  },
  {
   "cell_type": "code",
   "execution_count": 2,
   "metadata": {},
   "outputs": [],
   "source": [
    "URL = \"https://feed.finsents.com/idata/company_profile\"\n",
    "API_KEY = \"9fa2398de30e467c9baa4d8abe1e866b\""
   ]
  },
  {
   "cell_type": "code",
   "execution_count": 3,
   "metadata": {},
   "outputs": [],
   "source": [
    "HEADER = {\"Accept\": \"application/json\", \"AppKey\": API_KEY}"
   ]
  },
  {
   "cell_type": "code",
   "execution_count": 4,
   "metadata": {},
   "outputs": [],
   "source": [
    "params = {\n",
    "    \"symbol_name\": \"Apple\"\n",
    "}"
   ]
  },
  {
   "cell_type": "code",
   "execution_count": 5,
   "metadata": {},
   "outputs": [],
   "source": [
    "resp = requests.get(URL, headers=HEADER, params=params)"
   ]
  },
  {
   "cell_type": "code",
   "execution_count": 6,
   "metadata": {},
   "outputs": [
    {
     "data": {
      "text/plain": [
       "200"
      ]
     },
     "execution_count": 6,
     "metadata": {},
     "output_type": "execute_result"
    }
   ],
   "source": [
    "resp.status_code"
   ]
  },
  {
   "cell_type": "code",
   "execution_count": 7,
   "metadata": {},
   "outputs": [
    {
     "ename": "ModuleNotFoundError",
     "evalue": "No module named 'infotrie'",
     "output_type": "error",
     "traceback": [
      "\u001b[0;31m---------------------------------------------------------------------------\u001b[0m",
      "\u001b[0;31mModuleNotFoundError\u001b[0m                       Traceback (most recent call last)",
      "Cell \u001b[0;32mIn[7], line 1\u001b[0m\n\u001b[0;32m----> 1\u001b[0m \u001b[38;5;28;01mfrom\u001b[39;00m \u001b[38;5;21;01minfotrie\u001b[39;00m\u001b[38;5;21;01m.\u001b[39;00m\u001b[38;5;21;01mschema\u001b[39;00m \u001b[38;5;28;01mimport\u001b[39;00m CompanyDataModel\n",
      "\u001b[0;31mModuleNotFoundError\u001b[0m: No module named 'infotrie'"
     ]
    }
   ],
   "source": [
    "from infotrie.schema import CompanyDataModel"
   ]
  },
  {
   "cell_type": "code",
   "execution_count": 8,
   "metadata": {},
   "outputs": [],
   "source": [
    "data = resp.json().get(\"Result\").get(\"data\")"
   ]
  },
  {
   "cell_type": "code",
   "execution_count": 8,
   "metadata": {},
   "outputs": [],
   "source": [
    "validated_data = CompanyDataModel(**data[0])"
   ]
  },
  {
   "cell_type": "code",
   "execution_count": 9,
   "metadata": {},
   "outputs": [
    {
     "data": {
      "text/plain": [
       "CompanyDataModel(company_id='84', symbol_name='Apple Inc', symbol_code='AAPL', symbol_type='Common Stock', exchange_name='NASDAQ GS', exchange_code='US', exchange='NASDAQ', currency_symbol='$', country_name='USA', country_iso='US', figi='BBG000B9XRY4', isin='US0378331005', lei='HWUPKR0MPOU8FGXBT394', primary_ticker='AAPL.US', cusip='037833100', cik='320193', ein='94-2404110', fiscal_year_end='September', ipo_date='1980-12-12 00:00:00', international_domestic='International/Domestic', sector='Technology', industry='Consumer Electronics', gic_sector='Information Technology', gic_group='Technology Hardware & Equipment', gic_industry='Technology Hardware, Storage & Peripherals', gic_sub_industry='Technology Hardware, Storage & Peripherals', home_category='Domestic', is_delisted=False, description='Apple Inc. designs, manufactures, and markets smartphones, personal computers, tablets, wearables, and accessories worldwide. The company offers iPhone, a line of smartphones; Mac, a line of personal computers; iPad, a line of multi-purpose tablets; and wearables, home, and accessories comprising AirPods, Apple TV, Apple Watch, Beats products, and HomePod. It also provides AppleCare support and cloud services; and operates various platforms, including the App Store that allow customers to discover and download applications and digital content, such as books, music, video, games, and podcasts. In addition, the company offers various services, such as Apple Arcade, a game subscription service; Apple Fitness+, a personalized fitness service; Apple Music, which offers users a curated listening experience with on-demand radio stations; Apple News+, a subscription news and magazine service; Apple TV+, which offers exclusive original content; Apple Card, a co-branded credit card; and Apple Pay, a cashless payment service, as well as licenses its intellectual property. The company serves consumers, and small and mid-sized businesses; and the education, enterprise, and government markets. It distributes third-party applications for its products through the App Store. The company also sells its products through its retail and online stores, and direct sales force; and third-party cellular network carriers, wholesalers, retailers, and resellers. Apple Inc. was incorporated in 1977 and is headquartered in Cupertino, California.', address='One Apple Park Way, Cupertino, CA, United States, 95014', address_data=AddressDataModel(Street='One Apple Park Way', City='Cupertino', State='CA', Country='United States', ZIP='95014'), listings={'0': ListingsModel(Code='0R2V', Exchange='IL', Name='Apple Inc.'), '1': ListingsModel(Code='0R2V', Exchange='LSE', Name='Apple Inc.'), '2': ListingsModel(Code='AAPL', Exchange='MI', Name='Apple Inc.'), '3': ListingsModel(Code='AAPL', Exchange='NEO', Name='Apple Inc CDR'), '4': ListingsModel(Code='AAPL', Exchange='LIM', Name='Apple Inc'), '5': ListingsModel(Code='AAPL', Exchange='MX', Name='Apple Inc'), '6': ListingsModel(Code='AAPL', Exchange='SN', Name='Apple Inc'), '7': ListingsModel(Code='AAPL', Exchange='BA', Name='Apple Inc DRC'), '8': ListingsModel(Code='AAPL34', Exchange='SA', Name='Apple Inc'), '9': ListingsModel(Code='APC', Exchange='XETRA', Name='Apple Inc'), '10': ListingsModel(Code='APC', Exchange='HA', Name='Apple Inc'), '11': ListingsModel(Code='APC', Exchange='HM', Name='Apple Inc'), '12': ListingsModel(Code='APC', Exchange='BE', Name='Apple Inc'), '13': ListingsModel(Code='APC', Exchange='F', Name='Apple Inc'), '14': ListingsModel(Code='APC', Exchange='DU', Name='Apple Inc'), '15': ListingsModel(Code='APC', Exchange='MU', Name='Apple Inc'), '16': ListingsModel(Code='APC', Exchange='STU', Name='Apple Inc')}, officers={'0': OfficersModel(Name='Mr. Timothy D. Cook', Title='CEO & Director', YearBorn='1961'), '1': OfficersModel(Name='Mr. Luca  Maestri', Title='CFO & Sr. VP', YearBorn='1964'), '2': OfficersModel(Name='Mr. Jeffrey E. Williams', Title='Chief Operating Officer', YearBorn='1964'), '3': OfficersModel(Name='Ms. Katherine L. Adams', Title='Sr. VP, Gen. Counsel & Sec.', YearBorn='1964'), '4': OfficersModel(Name=\"Ms. Deirdre  O'Brien\", Title='Sr. VP of People & Retail', YearBorn='1967'), '5': OfficersModel(Name='Mr. Chris  Kondo', Title='Sr. Director of Corp. Accounting', YearBorn='NA'), '6': OfficersModel(Name='Mr. James  Wilson', Title='Chief Technology Officer', YearBorn='NA'), '7': OfficersModel(Name='Ms. Mary  Demby', Title='Chief Information Officer', YearBorn='NA'), '8': OfficersModel(Name='Ms. Nancy  Paxton', Title='Sr. Director of Investor Relations & Treasury', YearBorn='NA'), '9': OfficersModel(Name='Mr. Greg  Joswiak', Title='Sr. VP of Worldwide Marketing', YearBorn='NA')}, phone='408 996 1010', web_url='https://www.apple.com', logo_url='/img/logos/US/aapl.png', full_time_employees=164000)"
      ]
     },
     "execution_count": 9,
     "metadata": {},
     "output_type": "execute_result"
    }
   ],
   "source": [
    "validated_data"
   ]
  },
  {
   "cell_type": "code",
   "execution_count": 10,
   "metadata": {},
   "outputs": [],
   "source": [
    "import csv"
   ]
  },
  {
   "cell_type": "code",
   "execution_count": 11,
   "metadata": {},
   "outputs": [],
   "source": [
    "from pathlib import Path\n"
   ]
  },
  {
   "cell_type": "code",
   "execution_count": 12,
   "metadata": {},
   "outputs": [
    {
     "name": "stdout",
     "output_type": "stream",
     "text": [
      "/home/ljin/Projects/infotrie\n"
     ]
    }
   ],
   "source": [
    "BASE_DIR = Path(\".\").absolute().parent\n",
    "print(BASE_DIR)"
   ]
  },
  {
   "cell_type": "code",
   "execution_count": 13,
   "metadata": {},
   "outputs": [],
   "source": [
    "test_csv = BASE_DIR/\"test.csv\""
   ]
  },
  {
   "cell_type": "code",
   "execution_count": 24,
   "metadata": {},
   "outputs": [],
   "source": [
    "from infotrie.collect_data import fetch_data"
   ]
  },
  {
   "cell_type": "code",
   "execution_count": 27,
   "metadata": {},
   "outputs": [],
   "source": [
    "from time import sleep"
   ]
  },
  {
   "cell_type": "code",
   "execution_count": 31,
   "metadata": {},
   "outputs": [
    {
     "name": "stdout",
     "output_type": "stream",
     "text": [
      "Sleeping for 2 seconds 500 Server Error: Internal Server Error for url: https://feed.finsents.com/idata/company_profile?symbol_name=Aon+Plc\n",
      "Sleeping for 2 seconds 500 Server Error: Internal Server Error for url: https://feed.finsents.com/idata/company_profile?symbol_name=Celanese+Corp\n",
      "Sleeping for 2 seconds 500 Server Error: Internal Server Error for url: https://feed.finsents.com/idata/company_profile?symbol_name=Dupont+De+Nemours%2C+Inc.\n",
      "Sleeping for 2 seconds 500 Server Error: Internal Server Error for url: https://feed.finsents.com/idata/company_profile?symbol_name=E+J+Fencing+Services%2C+Inc.\n",
      "Sleeping for 2 seconds 500 Server Error: Internal Server Error for url: https://feed.finsents.com/idata/company_profile?symbol_name=Bungeltd\n",
      "Sleeping for 2 seconds 500 Server Error: Internal Server Error for url: https://feed.finsents.com/idata/company_profile?symbol_name=Bio-rad+Laboratories%2C+Inc.\n",
      "Sleeping for 2 seconds 500 Server Error: Internal Server Error for url: https://feed.finsents.com/idata/company_profile?symbol_name=Amcor+Plc\n",
      "Sleeping for 2 seconds 500 Server Error: Internal Server Error for url: https://feed.finsents.com/idata/company_profile?symbol_name=Eaton+Corp+Plc\n",
      "Sleeping for 2 seconds 500 Server Error: Internal Server Error for url: https://feed.finsents.com/idata/company_profile?symbol_name=Chubb+Ltd\n",
      "Sleeping for 2 seconds 500 Server Error: Internal Server Error for url: https://feed.finsents.com/idata/company_profile?symbol_name=Devon+Energy+Corp%2Fde\n",
      "Sleeping for 2 seconds 500 Server Error: Internal Server Error for url: https://feed.finsents.com/idata/company_profile?symbol_name=Boeing+Co\n",
      "Sleeping for 2 seconds 500 Server Error: Internal Server Error for url: https://feed.finsents.com/idata/company_profile?symbol_name=Everest+Re+Group+Ltd\n",
      "Sleeping for 2 seconds 500 Server Error: Internal Server Error for url: https://feed.finsents.com/idata/company_profile?symbol_name=Cbre+Group%2C+Inc.\n",
      "Sleeping for 2 seconds 500 Server Error: Internal Server Error for url: https://feed.finsents.com/idata/company_profile?symbol_name=Allegion+Plc\n",
      "Sleeping for 2 seconds 500 Server Error: Internal Server Error for url: https://feed.finsents.com/idata/company_profile?symbol_name=Dxc+Technology+Co\n",
      "Sleeping for 2 seconds 500 Server Error: Internal Server Error for url: https://feed.finsents.com/idata/company_profile?symbol_name=Baker+Hughes+Co\n",
      "Sleeping for 2 seconds 500 Server Error: Internal Server Error for url: https://feed.finsents.com/idata/company_profile?symbol_name=Edison+International\n",
      "Sleeping for 2 seconds 500 Server Error: Internal Server Error for url: https://feed.finsents.com/idata/company_profile?symbol_name=Copart+Inc\n",
      "Sleeping for 2 seconds 500 Server Error: Internal Server Error for url: https://feed.finsents.com/idata/company_profile?symbol_name=Dollar+General+Corp\n",
      "Sleeping for 2 seconds 500 Server Error: Internal Server Error for url: https://feed.finsents.com/idata/company_profile?symbol_name=Aptiv+Plc\n",
      "Sleeping for 2 seconds 500 Server Error: Internal Server Error for url: https://feed.finsents.com/idata/company_profile?symbol_name=Electronic+Arts+Inc.\n"
     ]
    }
   ],
   "source": [
    "with open(str(test_csv), \"r\") as f:\n",
    "    reader = csv.DictReader(f, delimiter=\"\\t\")\n",
    "    all_data = []\n",
    "    for elem in reader:\n",
    "        company = elem.get(\"company\")\n",
    "        try:\n",
    "            raw_data = fetch_data(URL, HEADER, {\"symbol_name\": company})\n",
    "            all_data.append(raw_data)\n",
    "        except requests.exceptions.HTTPError as e:\n",
    "            print(\"Sleeping for 2 seconds\", e)\n",
    "            sleep(2)"
   ]
  },
  {
   "cell_type": "code",
   "execution_count": 30,
   "metadata": {},
   "outputs": [
    {
     "data": {
      "text/plain": [
       "[]"
      ]
     },
     "execution_count": 30,
     "metadata": {},
     "output_type": "execute_result"
    }
   ],
   "source": [
    "all_data"
   ]
  },
  {
   "cell_type": "code",
   "execution_count": null,
   "metadata": {},
   "outputs": [],
   "source": []
  }
 ],
 "metadata": {
  "kernelspec": {
   "display_name": ".venv",
   "language": "python",
   "name": "python3"
  },
  "language_info": {
   "codemirror_mode": {
    "name": "ipython",
    "version": 3
   },
   "file_extension": ".py",
   "mimetype": "text/x-python",
   "name": "python",
   "nbconvert_exporter": "python",
   "pygments_lexer": "ipython3",
   "version": "3.10.12"
  }
 },
 "nbformat": 4,
 "nbformat_minor": 2
}
